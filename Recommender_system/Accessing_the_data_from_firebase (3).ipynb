{
  "cells": [
    {
      "cell_type": "code",
      "execution_count": null,
      "id": "eb34da21",
      "metadata": {
        "id": "eb34da21"
      },
      "outputs": [],
      "source": [
        "import firebase_admin\n",
        "from firebase_admin import credentials, firestore\n",
        "import pandas as pd"
      ]
    },
    {
      "cell_type": "code",
      "execution_count": null,
      "id": "4de6d35a",
      "metadata": {
        "colab": {
          "base_uri": "https://localhost:8080/"
        },
        "id": "4de6d35a",
        "outputId": "6095efd8-3eff-46d8-9a8d-3df6921b8fc0"
      },
      "outputs": [
        {
          "output_type": "stream",
          "name": "stdout",
          "text": [
            "Drive already mounted at /content/drive; to attempt to forcibly remount, call drive.mount(\"/content/drive\", force_remount=True).\n"
          ]
        }
      ],
      "source": [
        "# Initialize a Firestore client\n",
        "cred = credentials.Certificate(\"huna-ksa-firebase-adminsdk.json\")\n",
        "firebase_admin.initialize_app(cred)\n",
        "db = firestore.client()"
      ]
    },
    {
      "cell_type": "code",
      "execution_count": null,
      "id": "8833e0db",
      "metadata": {
        "id": "8833e0db"
      },
      "outputs": [],
      "source": [
        "# Retrieve the data from the \"placeData\" collection\n",
        "places_ref = db.collection(\"placeData\")\n",
        "places_docs = places_ref.stream()"
      ]
    },
    {
      "cell_type": "code",
      "execution_count": null,
      "id": "002e117d",
      "metadata": {
        "id": "002e117d"
      },
      "outputs": [],
      "source": [
        "# Create a list of dictionaries to store the data for each place\n",
        "places_data = []\n",
        "for doc in places_docs:\n",
        "    place_dict = doc.to_dict()\n",
        "    place_dict[\"place\"] = doc.id  # add the document ID as the \"place\" field\n",
        "    places_data.append(place_dict)"
      ]
    },
    {
      "cell_type": "code",
      "execution_count": null,
      "id": "261dd5c7",
      "metadata": {
        "id": "261dd5c7"
      },
      "outputs": [],
      "source": [
        "# Create a Pandas DataFrame from the list of dictionaries\n",
        "df = pd.DataFrame(places_data)"
      ]
    },
    {
      "cell_type": "code",
      "execution_count": null,
      "id": "5aef7c60",
      "metadata": {
        "id": "5aef7c60"
      },
      "outputs": [],
      "source": [
        "# Select the desired columns and export the DataFrame to a CSV file\n",
        "column_order = [\"place\", \"category\", \"city\", \"description\", \"type\"]\n",
        "df = df[column_order]\n",
        "df.to_csv(\"HunaKSAPlaceData.csv\", index=False)"
      ]
    },
    {
      "cell_type": "code",
      "execution_count": null,
      "id": "583297bd",
      "metadata": {
        "id": "583297bd"
      },
      "outputs": [],
      "source": []
    }
  ],
  "metadata": {
    "kernelspec": {
      "display_name": "Python 3 (ipykernel)",
      "language": "python",
      "name": "python3"
    },
    "language_info": {
      "codemirror_mode": {
        "name": "ipython",
        "version": 3
      },
      "file_extension": ".py",
      "mimetype": "text/x-python",
      "name": "python",
      "nbconvert_exporter": "python",
      "pygments_lexer": "ipython3",
      "version": "3.9.13"
    },
    "colab": {
      "provenance": []
    }
  },
  "nbformat": 4,
  "nbformat_minor": 5
}