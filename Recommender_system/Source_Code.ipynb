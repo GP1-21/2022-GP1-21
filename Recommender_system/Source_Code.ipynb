{
  "cells": [
    {
      "cell_type": "markdown",
      "id": "d64fd6e2",
      "metadata": {
        "id": "d64fd6e2"
      },
      "source": [
        "## Place Recommender System"
      ]
    },
    {
      "cell_type": "code",
      "execution_count": null,
      "id": "0da6cebf",
      "metadata": {
        "id": "0da6cebf"
      },
      "outputs": [],
      "source": [
        "# Importing necessary libraries \n",
        "import pandas as pd\n",
        "from sklearn.feature_extraction.text import CountVectorizer\n",
        "from sklearn.metrics.pairwise import cosine_similarity"
      ]
    },
    {
      "cell_type": "code",
      "execution_count": null,
      "id": "e41841f6",
      "metadata": {
        "id": "e41841f6"
      },
      "outputs": [],
      "source": [
        "# Loading the data into a pandas dataframe\n",
        "data = pd.read_csv('HunaKSAPlaceData.csv')"
      ]
    },
    {
      "cell_type": "code",
      "execution_count": null,
      "id": "e7a550e9",
      "metadata": {
        "id": "e7a550e9",
        "outputId": "b7dbf754-becf-4411-e3a9-bbca893ea64b"
      },
      "outputs": [
        {
          "data": {
            "text/html": [
              "<div>\n",
              "<style scoped>\n",
              "    .dataframe tbody tr th:only-of-type {\n",
              "        vertical-align: middle;\n",
              "    }\n",
              "\n",
              "    .dataframe tbody tr th {\n",
              "        vertical-align: top;\n",
              "    }\n",
              "\n",
              "    .dataframe thead th {\n",
              "        text-align: right;\n",
              "    }\n",
              "</style>\n",
              "<table border=\"1\" class=\"dataframe\">\n",
              "  <thead>\n",
              "    <tr style=\"text-align: right;\">\n",
              "      <th></th>\n",
              "      <th>place</th>\n",
              "      <th>category</th>\n",
              "      <th>city</th>\n",
              "      <th>description</th>\n",
              "      <th>type</th>\n",
              "    </tr>\n",
              "  </thead>\n",
              "  <tbody>\n",
              "    <tr>\n",
              "      <th>0</th>\n",
              "      <td>A spa</td>\n",
              "      <td>Woman</td>\n",
              "      <td>Jeddah</td>\n",
              "      <td>a spa</td>\n",
              "      <td>Spa</td>\n",
              "    </tr>\n",
              "    <tr>\n",
              "      <th>1</th>\n",
              "      <td>Al-balad Jeddah</td>\n",
              "      <td>General</td>\n",
              "      <td>Jeddah</td>\n",
              "      <td>Here is Jeddah Al-balad</td>\n",
              "      <td>Historical Sites</td>\n",
              "    </tr>\n",
              "    <tr>\n",
              "      <th>2</th>\n",
              "      <td>Ali Altimimi Park</td>\n",
              "      <td>General</td>\n",
              "      <td>Alkhobar</td>\n",
              "      <td>It is good for all families</td>\n",
              "      <td>Parks</td>\n",
              "    </tr>\n",
              "    <tr>\n",
              "      <th>3</th>\n",
              "      <td>Alolaya Park</td>\n",
              "      <td>General</td>\n",
              "      <td>Riyadh</td>\n",
              "      <td>Alolaya Park</td>\n",
              "      <td>Parks</td>\n",
              "    </tr>\n",
              "    <tr>\n",
              "      <th>4</th>\n",
              "      <td>Angelina</td>\n",
              "      <td>General</td>\n",
              "      <td>Jeddah</td>\n",
              "      <td>Angelina</td>\n",
              "      <td>Restaurants &amp; Cafes</td>\n",
              "    </tr>\n",
              "  </tbody>\n",
              "</table>\n",
              "</div>"
            ],
            "text/plain": [
              "               place category      city                  description  \\\n",
              "0              A spa    Woman    Jeddah                        a spa   \n",
              "1    Al-balad Jeddah  General    Jeddah     Here is Jeddah Al-balad    \n",
              "2  Ali Altimimi Park  General  Alkhobar  It is good for all families   \n",
              "3      Alolaya Park   General    Riyadh                 Alolaya Park   \n",
              "4           Angelina  General    Jeddah                     Angelina   \n",
              "\n",
              "                  type  \n",
              "0                  Spa  \n",
              "1     Historical Sites  \n",
              "2                Parks  \n",
              "3                Parks  \n",
              "4  Restaurants & Cafes  "
            ]
          },
          "execution_count": 3,
          "metadata": {},
          "output_type": "execute_result"
        }
      ],
      "source": [
        "# Top 5 rows of the data\n",
        "data.head()"
      ]
    },
    {
      "cell_type": "code",
      "execution_count": null,
      "id": "1fb1283a",
      "metadata": {
        "id": "1fb1283a"
      },
      "outputs": [],
      "source": [
        "# Creating a CountVectorizer object to generate term frequency matrix\n",
        "cv = CountVectorizer()"
      ]
    },
    {
      "cell_type": "code",
      "execution_count": null,
      "id": "b4713afc",
      "metadata": {
        "id": "b4713afc"
      },
      "outputs": [],
      "source": [
        "# Generating the term frequency matrix\n",
        "tf_matrix = cv.fit_transform(data['type'])"
      ]
    },
    {
      "cell_type": "code",
      "execution_count": null,
      "id": "fe4edc18",
      "metadata": {
        "id": "fe4edc18"
      },
      "outputs": [],
      "source": [
        "# Calculating the cosine similarity matrix\n",
        "cosine_sim = cosine_similarity(tf_matrix)"
      ]
    },
    {
      "cell_type": "code",
      "execution_count": null,
      "id": "e2120938",
      "metadata": {
        "id": "e2120938"
      },
      "outputs": [],
      "source": [
        "# Defining a function to get recommendations based on user's interests\n",
        "def get_recommendations_based_on_interests(interests, data, cosine_sim):\n",
        "    # Creating a list of indices for the places that match the user's interests\n",
        "    indices = []\n",
        "    for index, row in data.iterrows():\n",
        "        if any(interest in row['type'] for interest in interests):\n",
        "            indices.append(index)\n",
        "\n",
        "    # Creating a list of tuples that contain the index and similarity score for each place\n",
        "    similar_places = []\n",
        "    for index in indices:\n",
        "        sim_scores = list(enumerate(cosine_sim[index]))\n",
        "        sim_scores = sorted(sim_scores, key=lambda x: x[1], reverse=True)\n",
        "        sim_scores = sim_scores[1:6]\n",
        "        place_indices = [i[0] for i in sim_scores]\n",
        "        similar_places.append((index, place_indices))\n",
        "\n",
        "    # Creating a list of recommended places\n",
        "    recommended_places = []\n",
        "    for place in similar_places:\n",
        "        for index in place[1]:\n",
        "            recommended_places.append(data.iloc[index]['place'])\n",
        "\n",
        "    return list(set(recommended_places))"
      ]
    },
    {
      "cell_type": "code",
      "execution_count": null,
      "id": "8fdd17f3",
      "metadata": {
        "id": "8fdd17f3",
        "outputId": "c3af90e1-ccfb-413b-b8b8-028ec1343ca3"
      },
      "outputs": [
        {
          "name": "stdout",
          "output_type": "stream",
          "text": [
            "Recommended places based on interests:\n",
            "['Entrecôte Café de Paris', 'chucked cheese', 'Nassif House Museum', 'Floating alrahma mosque', 'circolo', 'Bait Wafaa', 'Bab Makkah-Jeddah', 'Matbouli House Museum', 'Centerio Mall', 'acme']\n"
          ]
        }
      ],
      "source": [
        "# Calling the get_recommendations_based_on_interests() function with a list of interests\n",
        "interests = [\"Historical Sites\", \"Restaurants & Cafes\"]\n",
        "recommended_places = get_recommendations_based_on_interests(interests, data, cosine_sim)\n",
        "\n",
        "# Print the recommended places\n",
        "print(\"Recommended places based on interests:\")\n",
        "print(recommended_places)"
      ]
    }
  ],
  "metadata": {
    "kernelspec": {
      "display_name": "Python 3 (ipykernel)",
      "language": "python",
      "name": "python3"
    },
    "language_info": {
      "codemirror_mode": {
        "name": "ipython",
        "version": 3
      },
      "file_extension": ".py",
      "mimetype": "text/x-python",
      "name": "python",
      "nbconvert_exporter": "python",
      "pygments_lexer": "ipython3",
      "version": "3.9.13"
    },
    "colab": {
      "provenance": []
    }
  },
  "nbformat": 4,
  "nbformat_minor": 5
}