{
  "cells": [
    {
      "cell_type": "markdown",
      "id": "d64fd6e2",
      "metadata": {
        "id": "d64fd6e2"
      },
      "source": [
        "## Place Recommender System"
      ]
    },
    {
      "cell_type": "code",
      "execution_count": null,
      "id": "0da6cebf",
      "metadata": {
        "id": "0da6cebf"
      },
      "outputs": [],
      "source": [
        "# Importing necessary libraries \n",
        "import pandas as pd\n",
        "from sklearn.feature_extraction.text import CountVectorizer\n",
        "from sklearn.metrics.pairwise import cosine_similarity"
      ]
    },
    {
      "cell_type": "code",
      "execution_count": null,
      "id": "e41841f6",
      "metadata": {
        "colab": {
          "base_uri": "https://localhost:8080/"
        },
        "id": "e41841f6",
        "outputId": "5352bad4-fc43-4bab-da25-4109ce38d4e9"
      },
      "outputs": [
        {
          "name": "stdout",
          "output_type": "stream",
          "text": [
            "Mounted at /content/drive\n"
          ]
        }
      ],
      "source": [
        "# Loading the data into a pandas dataframe\n",
        "from google.colab import drive\n",
        "drive.mount('/content/drive')\n",
        "data = pd.read_csv('/content/drive/My Drive/Huna_KSA/Colab Notebooks/rcs-hunaksa/places_data.csv')"
      ]
    },
    {
      "cell_type": "code",
      "execution_count": null,
      "id": "e7a550e9",
      "metadata": {
        "colab": {
          "base_uri": "https://localhost:8080/",
          "height": 206
        },
        "id": "e7a550e9",
        "outputId": "5163b371-3ced-46e0-a5ef-988dfd4ff786"
      },
      "outputs": [
        {
          "data": {
            "text/html": [
              "\n",
              "  <div id=\"df-9cbc18fe-c20a-43ea-a5a0-5f817c66e4d0\">\n",
              "    <div class=\"colab-df-container\">\n",
              "      <div>\n",
              "<style scoped>\n",
              "    .dataframe tbody tr th:only-of-type {\n",
              "        vertical-align: middle;\n",
              "    }\n",
              "\n",
              "    .dataframe tbody tr th {\n",
              "        vertical-align: top;\n",
              "    }\n",
              "\n",
              "    .dataframe thead th {\n",
              "        text-align: right;\n",
              "    }\n",
              "</style>\n",
              "<table border=\"1\" class=\"dataframe\">\n",
              "  <thead>\n",
              "    <tr style=\"text-align: right;\">\n",
              "      <th></th>\n",
              "      <th>place</th>\n",
              "      <th>category</th>\n",
              "      <th>city</th>\n",
              "      <th>description</th>\n",
              "      <th>type</th>\n",
              "    </tr>\n",
              "  </thead>\n",
              "  <tbody>\n",
              "    <tr>\n",
              "      <th>0</th>\n",
              "      <td>A spa</td>\n",
              "      <td>Woman</td>\n",
              "      <td>Jeddah</td>\n",
              "      <td>a spa</td>\n",
              "      <td>Spa</td>\n",
              "    </tr>\n",
              "    <tr>\n",
              "      <th>1</th>\n",
              "      <td>Al-balad Jeddah</td>\n",
              "      <td>General</td>\n",
              "      <td>Jeddah</td>\n",
              "      <td>Here is Jeddah Al-balad</td>\n",
              "      <td>Historical Sites</td>\n",
              "    </tr>\n",
              "    <tr>\n",
              "      <th>2</th>\n",
              "      <td>Ali Altimimi Park</td>\n",
              "      <td>General</td>\n",
              "      <td>Alkhobar</td>\n",
              "      <td>It is good for all families</td>\n",
              "      <td>Parks</td>\n",
              "    </tr>\n",
              "    <tr>\n",
              "      <th>3</th>\n",
              "      <td>Alolaya Park</td>\n",
              "      <td>General</td>\n",
              "      <td>Riyadh</td>\n",
              "      <td>Alolaya Park</td>\n",
              "      <td>Parks</td>\n",
              "    </tr>\n",
              "    <tr>\n",
              "      <th>4</th>\n",
              "      <td>Angelina</td>\n",
              "      <td>General</td>\n",
              "      <td>Jeddah</td>\n",
              "      <td>Angelina</td>\n",
              "      <td>Restaurants &amp; Cafes</td>\n",
              "    </tr>\n",
              "  </tbody>\n",
              "</table>\n",
              "</div>\n",
              "      <button class=\"colab-df-convert\" onclick=\"convertToInteractive('df-9cbc18fe-c20a-43ea-a5a0-5f817c66e4d0')\"\n",
              "              title=\"Convert this dataframe to an interactive table.\"\n",
              "              style=\"display:none;\">\n",
              "        \n",
              "  <svg xmlns=\"http://www.w3.org/2000/svg\" height=\"24px\"viewBox=\"0 0 24 24\"\n",
              "       width=\"24px\">\n",
              "    <path d=\"M0 0h24v24H0V0z\" fill=\"none\"/>\n",
              "    <path d=\"M18.56 5.44l.94 2.06.94-2.06 2.06-.94-2.06-.94-.94-2.06-.94 2.06-2.06.94zm-11 1L8.5 8.5l.94-2.06 2.06-.94-2.06-.94L8.5 2.5l-.94 2.06-2.06.94zm10 10l.94 2.06.94-2.06 2.06-.94-2.06-.94-.94-2.06-.94 2.06-2.06.94z\"/><path d=\"M17.41 7.96l-1.37-1.37c-.4-.4-.92-.59-1.43-.59-.52 0-1.04.2-1.43.59L10.3 9.45l-7.72 7.72c-.78.78-.78 2.05 0 2.83L4 21.41c.39.39.9.59 1.41.59.51 0 1.02-.2 1.41-.59l7.78-7.78 2.81-2.81c.8-.78.8-2.07 0-2.86zM5.41 20L4 18.59l7.72-7.72 1.47 1.35L5.41 20z\"/>\n",
              "  </svg>\n",
              "      </button>\n",
              "      \n",
              "  <style>\n",
              "    .colab-df-container {\n",
              "      display:flex;\n",
              "      flex-wrap:wrap;\n",
              "      gap: 12px;\n",
              "    }\n",
              "\n",
              "    .colab-df-convert {\n",
              "      background-color: #E8F0FE;\n",
              "      border: none;\n",
              "      border-radius: 50%;\n",
              "      cursor: pointer;\n",
              "      display: none;\n",
              "      fill: #1967D2;\n",
              "      height: 32px;\n",
              "      padding: 0 0 0 0;\n",
              "      width: 32px;\n",
              "    }\n",
              "\n",
              "    .colab-df-convert:hover {\n",
              "      background-color: #E2EBFA;\n",
              "      box-shadow: 0px 1px 2px rgba(60, 64, 67, 0.3), 0px 1px 3px 1px rgba(60, 64, 67, 0.15);\n",
              "      fill: #174EA6;\n",
              "    }\n",
              "\n",
              "    [theme=dark] .colab-df-convert {\n",
              "      background-color: #3B4455;\n",
              "      fill: #D2E3FC;\n",
              "    }\n",
              "\n",
              "    [theme=dark] .colab-df-convert:hover {\n",
              "      background-color: #434B5C;\n",
              "      box-shadow: 0px 1px 3px 1px rgba(0, 0, 0, 0.15);\n",
              "      filter: drop-shadow(0px 1px 2px rgba(0, 0, 0, 0.3));\n",
              "      fill: #FFFFFF;\n",
              "    }\n",
              "  </style>\n",
              "\n",
              "      <script>\n",
              "        const buttonEl =\n",
              "          document.querySelector('#df-9cbc18fe-c20a-43ea-a5a0-5f817c66e4d0 button.colab-df-convert');\n",
              "        buttonEl.style.display =\n",
              "          google.colab.kernel.accessAllowed ? 'block' : 'none';\n",
              "\n",
              "        async function convertToInteractive(key) {\n",
              "          const element = document.querySelector('#df-9cbc18fe-c20a-43ea-a5a0-5f817c66e4d0');\n",
              "          const dataTable =\n",
              "            await google.colab.kernel.invokeFunction('convertToInteractive',\n",
              "                                                     [key], {});\n",
              "          if (!dataTable) return;\n",
              "\n",
              "          const docLinkHtml = 'Like what you see? Visit the ' +\n",
              "            '<a target=\"_blank\" href=https://colab.research.google.com/notebooks/data_table.ipynb>data table notebook</a>'\n",
              "            + ' to learn more about interactive tables.';\n",
              "          element.innerHTML = '';\n",
              "          dataTable['output_type'] = 'display_data';\n",
              "          await google.colab.output.renderOutput(dataTable, element);\n",
              "          const docLink = document.createElement('div');\n",
              "          docLink.innerHTML = docLinkHtml;\n",
              "          element.appendChild(docLink);\n",
              "        }\n",
              "      </script>\n",
              "    </div>\n",
              "  </div>\n",
              "  "
            ],
            "text/plain": [
              "               place category      city                  description  \\\n",
              "0              A spa    Woman    Jeddah                        a spa   \n",
              "1    Al-balad Jeddah  General    Jeddah     Here is Jeddah Al-balad    \n",
              "2  Ali Altimimi Park  General  Alkhobar  It is good for all families   \n",
              "3      Alolaya Park   General    Riyadh                 Alolaya Park   \n",
              "4           Angelina  General    Jeddah                     Angelina   \n",
              "\n",
              "                  type  \n",
              "0                  Spa  \n",
              "1     Historical Sites  \n",
              "2                Parks  \n",
              "3                Parks  \n",
              "4  Restaurants & Cafes  "
            ]
          },
          "execution_count": 10,
          "metadata": {},
          "output_type": "execute_result"
        }
      ],
      "source": [
        "# Top 5 rows of the data\n",
        "data.head()"
      ]
    },
    {
      "cell_type": "code",
      "execution_count": null,
      "id": "1fb1283a",
      "metadata": {
        "id": "1fb1283a"
      },
      "outputs": [],
      "source": [
        "# Creating a CountVectorizer object to generate term frequency matrix\n",
        "cv = CountVectorizer()"
      ]
    },
    {
      "cell_type": "code",
      "execution_count": null,
      "id": "b4713afc",
      "metadata": {
        "id": "b4713afc"
      },
      "outputs": [],
      "source": [
        "# Generating the term frequency matrix\n",
        "tf_matrix = cv.fit_transform(data['type'])"
      ]
    },
    {
      "cell_type": "code",
      "execution_count": null,
      "id": "fe4edc18",
      "metadata": {
        "id": "fe4edc18"
      },
      "outputs": [],
      "source": [
        "# Calculating the cosine similarity matrix\n",
        "cosine_sim = cosine_similarity(tf_matrix)"
      ]
    },
    {
      "cell_type": "code",
      "execution_count": null,
      "id": "e2120938",
      "metadata": {
        "id": "e2120938"
      },
      "outputs": [],
      "source": [
        "# Defining a function to get recommendations based on user's interests\n",
        "def get_recommendations_based_on_interests(interests, data, cosine_sim):\n",
        "    # Creating a list of indices for the places that match the user's interests\n",
        "    indices = []\n",
        "    for index, row in data.iterrows():\n",
        "        if any(interest in row['type'] for interest in interests):\n",
        "            indices.append(index)\n",
        "\n",
        "    # Creating a list of tuples that contain the index and similarity score for each place\n",
        "    similar_places = []\n",
        "    for index in indices:\n",
        "        sim_scores = list(enumerate(cosine_sim[index]))\n",
        "        sim_scores = sorted(sim_scores, key=lambda x: x[1], reverse=True)\n",
        "        sim_scores = sim_scores[1:6]\n",
        "        place_indices = [i[0] for i in sim_scores]\n",
        "        similar_places.append((index, place_indices))\n",
        "\n",
        "    # Creating a list of recommended places\n",
        "    recommended_places = []\n",
        "    for place in similar_places:\n",
        "        for index in place[1]:\n",
        "            recommended_places.append(data.iloc[index]['place'])\n",
        "\n",
        "    return list(set(recommended_places))"
      ]
    },
    {
      "cell_type": "code",
      "execution_count": null,
      "id": "8fdd17f3",
      "metadata": {
        "colab": {
          "base_uri": "https://localhost:8080/"
        },
        "id": "8fdd17f3",
        "outputId": "e338d5b2-3de2-42fb-f8b4-db13e69e5c81"
      },
      "outputs": [
        {
          "name": "stdout",
          "output_type": "stream",
          "text": [
            "Recommended places based on interests:\n",
            "['Centerio Mall', 'Bait Wafaa', 'chucked cheese', 'Matbouli House Museum', 'Entrecôte Café de Paris', 'Bab Makkah-Jeddah', 'circolo', 'acme', 'Nassif House Museum', 'Floating alrahma mosque']\n"
          ]
        }
      ],
      "source": [
        "# Calling the get_recommendations_based_on_interests() function with a list of interests\n",
        "interests = [\"Historical Sites\", \"Restaurants & Cafes\"]\n",
        "recommended_places = get_recommendations_based_on_interests(interests, data, cosine_sim)\n",
        "\n",
        "# Print the recommended places\n",
        "print(\"Recommended places based on interests:\")\n",
        "print(recommended_places)"
      ]
    }
  ],
  "metadata": {
    "colab": {
      "provenance": []
    },
    "kernelspec": {
      "display_name": "Python 3 (ipykernel)",
      "language": "python",
      "name": "python3"
    },
    "language_info": {
      "codemirror_mode": {
        "name": "ipython",
        "version": 3
      },
      "file_extension": ".py",
      "mimetype": "text/x-python",
      "name": "python",
      "nbconvert_exporter": "python",
      "pygments_lexer": "ipython3",
      "version": "3.9.13"
    }
  },
  "nbformat": 4,
  "nbformat_minor": 5
}
